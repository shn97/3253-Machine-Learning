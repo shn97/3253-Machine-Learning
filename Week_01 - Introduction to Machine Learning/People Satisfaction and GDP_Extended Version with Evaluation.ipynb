{
  "nbformat": 4,
  "nbformat_minor": 0,
  "metadata": {
    "colab": {
      "name": "People Satisfaction and GDP.ipynb",
      "provenance": [],
      "collapsed_sections": []
    },
    "kernelspec": {
      "name": "python3",
      "display_name": "Python 3"
    }
  },
  "cells": [
    {
      "cell_type": "markdown",
      "metadata": {
        "id": "gseS97WXHRAJ"
      },
      "source": [
        "[![Open In Colab](https://colab.research.google.com/assets/colab-badge.svg)](https://colab.research.google.com/drive/1CkvVzG1NtJABPkPRofGLT-MXUCj7veLo#scrollTo=gseS97WXHRAJ)\n"
      ]
    },
    {
      "cell_type": "markdown",
      "metadata": {
        "id": "-OMhwXX0Euz1"
      },
      "source": [
        "# Predict People Satisfaction Across the Globe\n",
        "\n",
        "**Objective:**\n",
        "We would like to build a model that predicts satisfaction score for people of different countries given their country GDP."
      ]
    },
    {
      "cell_type": "markdown",
      "metadata": {
        "id": "-sSMTG_Buxcm"
      },
      "source": [
        "#Note 1: How to enable code completion:\n",
        "\n",
        "Tools menu ==> click on settings ==> Editor ==> Enable \"Automatically trigger code completions\"\n",
        "\n",
        "\n"
      ]
    },
    {
      "cell_type": "markdown",
      "metadata": {
        "id": "x9L7_OwZix-k"
      },
      "source": [
        "#Note 2: Instructions to create a copy of this notebook for youtself\n",
        "\n",
        "You do not have write access to this notebook.\n",
        "\n",
        "* From Menu bar, Go to File, \n",
        "* Select \"Save a copy in my Drive\"\n",
        "* Navigate to Google Drive\n",
        "* Find a folder named \"Collab Notebook\" and open it to find your notebook. \n",
        "* Rename it and start making changes.\n",
        "\n",
        "**Note:** If there is any file you should read in your code, make sure you copy the file from instructor folder to your own Gdrive by following below steps:\n",
        "\n",
        "* Right clicking on the file name \n",
        "* Select \"Make a copy\"\n",
        "* Click on the new file\n",
        "* Move it to desired folder, preferrably where you have your notebook"
      ]
    },
    {
      "cell_type": "markdown",
      "metadata": {
        "id": "WaAyuEL-EfXy"
      },
      "source": [
        "# Download Dataset\n",
        "\n",
        "Download the Better Life Index data (latest edition, currently it is 2017) from the [OECD’s website](http://homl.info/4) as well as stats about GDP per capita from the [IMF’s website](http://homl.info/5). Then you join the tables and sort by GDP per capita. "
      ]
    },
    {
      "cell_type": "markdown",
      "metadata": {
        "id": "ZWasUlHjGGHc"
      },
      "source": [
        "# Import Dataset to Google Colab\n",
        "\n",
        "1. Download CSV and XLS files to your computer\n",
        "2. Upload them to your Google Drive\n",
        "3. Open the CSV files using Google Sheets so Google will create the dataset in format of Google Sheets\n",
        "4. You can remove CSV and XLS files from your drive\n",
        "5. Use the step by step guide from [here](https://colab.research.google.com/notebooks/io.ipynb#scrollTo=vz-jH8T_Uk2c) and scroll down to **\" Google Sheets\" ** cell to import data into dataframe\n",
        "\n",
        "NOTE: After creating Google Sheet into your Drive, make sure you are converting Column 2015 to 0.00 format before importing it into Colab  otherwise Google will import it as a string and you will have hard time to clean the data\n",
        "\n",
        "\n"
      ]
    },
    {
      "cell_type": "code",
      "metadata": {
        "id": "RhyqGUE9GFTF"
      },
      "source": [
        "# Run below line of code for the first time to install gspread. Once installed comment it for future use\n",
        "#!pip install --upgrade -q gspread\n",
        "from google.colab import auth\n",
        "auth.authenticate_user()\n",
        "\n",
        "import gspread\n",
        "from oauth2client.client import GoogleCredentials\n",
        "\n",
        "gc = gspread.authorize(GoogleCredentials.get_application_default())"
      ],
      "execution_count": null,
      "outputs": []
    },
    {
      "cell_type": "markdown",
      "metadata": {
        "id": "1QrOorPEHbDg"
      },
      "source": [
        "# Use gc to open Google Sheet Datasets"
      ]
    },
    {
      "cell_type": "code",
      "metadata": {
        "id": "4seJiwQyEYVG",
        "colab": {
          "base_uri": "https://localhost:8080/"
        },
        "outputId": "e88a402a-3ac5-49bc-de2b-bc4f89ff08f2"
      },
      "source": [
        "#Open given sheet\n",
        "worksheet = gc.open('BLI_30012019054825599').sheet1\n",
        "\n",
        "# Read contents of CSV file\n",
        "bli_rows = worksheet.get_all_values()\n",
        "\n",
        "# Convert to a DataFrame and render.\n",
        "import pandas as pd\n",
        "bli  = pd.DataFrame.from_records(bli_rows, columns = bli_rows[0])\n",
        "\n",
        "# Remove rows where inequality has values other than TOT\n",
        "bli = bli[bli[\"INEQUALITY\"]==\"TOT\"]\n",
        "\n",
        "# Reformat data based on \"indicator column\"\n",
        "bli = bli.pivot(index=\"Country\", columns=\"Indicator\", values=\"Value\")\n",
        "#bli.head()\n",
        "bli[\"Life satisfaction\"].head()"
      ],
      "execution_count": null,
      "outputs": [
        {
          "output_type": "execute_result",
          "data": {
            "text/plain": [
              "Country\n",
              "Australia    7.3\n",
              "Austria        7\n",
              "Belgium      6.9\n",
              "Brazil       6.6\n",
              "Canada       7.3\n",
              "Name: Life satisfaction, dtype: object"
            ]
          },
          "metadata": {},
          "execution_count": 7
        }
      ]
    },
    {
      "cell_type": "code",
      "metadata": {
        "colab": {
          "base_uri": "https://localhost:8080/",
          "height": 360
        },
        "id": "PJ42_kqLt7Zq",
        "outputId": "c48e3c42-99a5-4e29-e524-074c1d0500a7"
      },
      "source": [
        "bli[0:5]"
      ],
      "execution_count": null,
      "outputs": [
        {
          "output_type": "execute_result",
          "data": {
            "text/html": [
              "<div>\n",
              "<style scoped>\n",
              "    .dataframe tbody tr th:only-of-type {\n",
              "        vertical-align: middle;\n",
              "    }\n",
              "\n",
              "    .dataframe tbody tr th {\n",
              "        vertical-align: top;\n",
              "    }\n",
              "\n",
              "    .dataframe thead th {\n",
              "        text-align: right;\n",
              "    }\n",
              "</style>\n",
              "<table border=\"1\" class=\"dataframe\">\n",
              "  <thead>\n",
              "    <tr style=\"text-align: right;\">\n",
              "      <th>Indicator</th>\n",
              "      <th>Air pollution</th>\n",
              "      <th>Dwellings without basic facilities</th>\n",
              "      <th>Educational attainment</th>\n",
              "      <th>Employees working very long hours</th>\n",
              "      <th>Employment rate</th>\n",
              "      <th>Feeling safe walking alone at night</th>\n",
              "      <th>Homicide rate</th>\n",
              "      <th>Household net adjusted disposable income</th>\n",
              "      <th>Household net financial wealth</th>\n",
              "      <th>Housing expenditure</th>\n",
              "      <th>Labour market insecurity</th>\n",
              "      <th>Life expectancy</th>\n",
              "      <th>Life satisfaction</th>\n",
              "      <th>Long-term unemployment rate</th>\n",
              "      <th>Personal earnings</th>\n",
              "      <th>Quality of support network</th>\n",
              "      <th>Rooms per person</th>\n",
              "      <th>Self-reported health</th>\n",
              "      <th>Stakeholder engagement for developing regulations</th>\n",
              "      <th>Student skills</th>\n",
              "      <th>Time devoted to leisure and personal care</th>\n",
              "      <th>Voter turnout</th>\n",
              "      <th>Water quality</th>\n",
              "      <th>Years in education</th>\n",
              "    </tr>\n",
              "    <tr>\n",
              "      <th>Country</th>\n",
              "      <th></th>\n",
              "      <th></th>\n",
              "      <th></th>\n",
              "      <th></th>\n",
              "      <th></th>\n",
              "      <th></th>\n",
              "      <th></th>\n",
              "      <th></th>\n",
              "      <th></th>\n",
              "      <th></th>\n",
              "      <th></th>\n",
              "      <th></th>\n",
              "      <th></th>\n",
              "      <th></th>\n",
              "      <th></th>\n",
              "      <th></th>\n",
              "      <th></th>\n",
              "      <th></th>\n",
              "      <th></th>\n",
              "      <th></th>\n",
              "      <th></th>\n",
              "      <th></th>\n",
              "      <th></th>\n",
              "      <th></th>\n",
              "    </tr>\n",
              "  </thead>\n",
              "  <tbody>\n",
              "    <tr>\n",
              "      <th>Australia</th>\n",
              "      <td>5</td>\n",
              "      <td>1.1</td>\n",
              "      <td>80</td>\n",
              "      <td>13.2</td>\n",
              "      <td>72</td>\n",
              "      <td>63.6</td>\n",
              "      <td>1</td>\n",
              "      <td>33417</td>\n",
              "      <td>57462</td>\n",
              "      <td>20</td>\n",
              "      <td>4.3</td>\n",
              "      <td>82.5</td>\n",
              "      <td>7.3</td>\n",
              "      <td>1.36</td>\n",
              "      <td>52063</td>\n",
              "      <td>94</td>\n",
              "      <td>2.3</td>\n",
              "      <td>85</td>\n",
              "      <td>2.7</td>\n",
              "      <td>502</td>\n",
              "      <td>14.35</td>\n",
              "      <td>91</td>\n",
              "      <td>92</td>\n",
              "      <td>21.2</td>\n",
              "    </tr>\n",
              "    <tr>\n",
              "      <th>Austria</th>\n",
              "      <td>16</td>\n",
              "      <td>1</td>\n",
              "      <td>85</td>\n",
              "      <td>6.78</td>\n",
              "      <td>72</td>\n",
              "      <td>80.7</td>\n",
              "      <td>0.4</td>\n",
              "      <td>32544</td>\n",
              "      <td>59574</td>\n",
              "      <td>21</td>\n",
              "      <td>2.7</td>\n",
              "      <td>81.3</td>\n",
              "      <td>7</td>\n",
              "      <td>1.94</td>\n",
              "      <td>48295</td>\n",
              "      <td>92</td>\n",
              "      <td>1.6</td>\n",
              "      <td>70</td>\n",
              "      <td>1.3</td>\n",
              "      <td>492</td>\n",
              "      <td>14.55</td>\n",
              "      <td>75</td>\n",
              "      <td>93</td>\n",
              "      <td>17.1</td>\n",
              "    </tr>\n",
              "    <tr>\n",
              "      <th>Belgium</th>\n",
              "      <td>15</td>\n",
              "      <td>2.3</td>\n",
              "      <td>75</td>\n",
              "      <td>4.31</td>\n",
              "      <td>62</td>\n",
              "      <td>70.7</td>\n",
              "      <td>1</td>\n",
              "      <td>29968</td>\n",
              "      <td>104084</td>\n",
              "      <td>21</td>\n",
              "      <td>4.8</td>\n",
              "      <td>81.1</td>\n",
              "      <td>6.9</td>\n",
              "      <td>3.98</td>\n",
              "      <td>49587</td>\n",
              "      <td>92</td>\n",
              "      <td>2.2</td>\n",
              "      <td>75</td>\n",
              "      <td>2.2</td>\n",
              "      <td>503</td>\n",
              "      <td>15.77</td>\n",
              "      <td>89</td>\n",
              "      <td>84</td>\n",
              "      <td>18.2</td>\n",
              "    </tr>\n",
              "    <tr>\n",
              "      <th>Brazil</th>\n",
              "      <td>10</td>\n",
              "      <td>6.7</td>\n",
              "      <td>49</td>\n",
              "      <td>7.15</td>\n",
              "      <td>64</td>\n",
              "      <td>37.3</td>\n",
              "      <td>27.6</td>\n",
              "      <td>12227</td>\n",
              "      <td>7102</td>\n",
              "      <td>20</td>\n",
              "      <td>4.9</td>\n",
              "      <td>74.7</td>\n",
              "      <td>6.6</td>\n",
              "      <td>3.37</td>\n",
              "      <td>14024</td>\n",
              "      <td>90</td>\n",
              "      <td>0.8</td>\n",
              "      <td>70</td>\n",
              "      <td>2.2</td>\n",
              "      <td>395</td>\n",
              "      <td>14.45</td>\n",
              "      <td>79</td>\n",
              "      <td>72</td>\n",
              "      <td>15.9</td>\n",
              "    </tr>\n",
              "    <tr>\n",
              "      <th>Canada</th>\n",
              "      <td>7</td>\n",
              "      <td>0.2</td>\n",
              "      <td>91</td>\n",
              "      <td>3.73</td>\n",
              "      <td>73</td>\n",
              "      <td>80.9</td>\n",
              "      <td>1.4</td>\n",
              "      <td>29850</td>\n",
              "      <td>85758</td>\n",
              "      <td>22</td>\n",
              "      <td>3.9</td>\n",
              "      <td>81.5</td>\n",
              "      <td>7.3</td>\n",
              "      <td>0.81</td>\n",
              "      <td>48403</td>\n",
              "      <td>93</td>\n",
              "      <td>2.5</td>\n",
              "      <td>88</td>\n",
              "      <td>3</td>\n",
              "      <td>523</td>\n",
              "      <td>14.41</td>\n",
              "      <td>68</td>\n",
              "      <td>91</td>\n",
              "      <td>16.7</td>\n",
              "    </tr>\n",
              "  </tbody>\n",
              "</table>\n",
              "</div>"
            ],
            "text/plain": [
              "Indicator Air pollution  ... Years in education\n",
              "Country                  ...                   \n",
              "Australia             5  ...               21.2\n",
              "Austria              16  ...               17.1\n",
              "Belgium              15  ...               18.2\n",
              "Brazil               10  ...               15.9\n",
              "Canada                7  ...               16.7\n",
              "\n",
              "[5 rows x 24 columns]"
            ]
          },
          "metadata": {},
          "execution_count": 8
        }
      ]
    },
    {
      "cell_type": "code",
      "metadata": {
        "id": "01edCO9kHJ2p",
        "colab": {
          "base_uri": "https://localhost:8080/",
          "height": 236
        },
        "outputId": "13ea178f-cce1-4001-e5fe-a5a04840acaa"
      },
      "source": [
        "#Open given sheet\n",
        "worksheet = gc.open('WEO_Data').sheet1\n",
        "\n",
        "# Read contents of CSV file\n",
        "WEO_rows = worksheet.get_all_values()\n",
        "\n",
        "# Convert to a DataFrame and render.\n",
        "import pandas as pd\n",
        "weo  = pd.DataFrame.from_records(WEO_rows, columns = WEO_rows[0])\n",
        "\n",
        "# Drop the header row from data\n",
        "weo = weo.reindex(weo.index.drop(0))\n",
        "\n",
        "# 1- Select only Country name and 2015 \n",
        "# 2- then rename it to GDP Per capita\n",
        "weo = weo[['Country','2015']].rename(columns={'2015':'GDP per capita'})\n",
        "\n",
        "# Set Country as index column\n",
        "# Inplace command, will replace the results of command into the same DF\n",
        "weo.set_index(\"Country\", inplace=True)\n",
        "\n",
        "#weo.drop_duplicates(inplace=True)\n",
        "#Print top 5 rows\n",
        "weo.head()"
      ],
      "execution_count": null,
      "outputs": [
        {
          "output_type": "execute_result",
          "data": {
            "text/html": [
              "<div>\n",
              "<style scoped>\n",
              "    .dataframe tbody tr th:only-of-type {\n",
              "        vertical-align: middle;\n",
              "    }\n",
              "\n",
              "    .dataframe tbody tr th {\n",
              "        vertical-align: top;\n",
              "    }\n",
              "\n",
              "    .dataframe thead th {\n",
              "        text-align: right;\n",
              "    }\n",
              "</style>\n",
              "<table border=\"1\" class=\"dataframe\">\n",
              "  <thead>\n",
              "    <tr style=\"text-align: right;\">\n",
              "      <th></th>\n",
              "      <th>GDP per capita</th>\n",
              "    </tr>\n",
              "    <tr>\n",
              "      <th>Country</th>\n",
              "      <th></th>\n",
              "    </tr>\n",
              "  </thead>\n",
              "  <tbody>\n",
              "    <tr>\n",
              "      <th>Afghanistan</th>\n",
              "      <td>599.99</td>\n",
              "    </tr>\n",
              "    <tr>\n",
              "      <th>Albania</th>\n",
              "      <td>3995.38</td>\n",
              "    </tr>\n",
              "    <tr>\n",
              "      <th>Algeria</th>\n",
              "      <td>4318.14</td>\n",
              "    </tr>\n",
              "    <tr>\n",
              "      <th>Angola</th>\n",
              "      <td>4100.32</td>\n",
              "    </tr>\n",
              "    <tr>\n",
              "      <th>Antigua and Barbuda</th>\n",
              "      <td>14414.30</td>\n",
              "    </tr>\n",
              "  </tbody>\n",
              "</table>\n",
              "</div>"
            ],
            "text/plain": [
              "                    GDP per capita\n",
              "Country                           \n",
              "Afghanistan                 599.99\n",
              "Albania                    3995.38\n",
              "Algeria                    4318.14\n",
              "Angola                     4100.32\n",
              "Antigua and Barbuda       14414.30"
            ]
          },
          "metadata": {},
          "execution_count": 9
        }
      ]
    },
    {
      "cell_type": "markdown",
      "metadata": {
        "id": "XX_8yJTKNPkt"
      },
      "source": [
        "# Merge/Join dataset"
      ]
    },
    {
      "cell_type": "code",
      "metadata": {
        "id": "ZibYb4W-HuEy",
        "colab": {
          "base_uri": "https://localhost:8080/",
          "height": 360
        },
        "outputId": "d943679b-bf91-4a18-cb4f-30a6ac28e098"
      },
      "source": [
        "# Now merge BLI and WEO datasets\n",
        "df = pd.merge(left = weo, right = bli, left_index=True, right_index=True)\n",
        "\n",
        "#sort the dataframe by GPD per capita\n",
        "df.sort_values(by=\"GDP per capita\", inplace=True)\n",
        "df.head()\n"
      ],
      "execution_count": null,
      "outputs": [
        {
          "output_type": "execute_result",
          "data": {
            "text/html": [
              "<div>\n",
              "<style scoped>\n",
              "    .dataframe tbody tr th:only-of-type {\n",
              "        vertical-align: middle;\n",
              "    }\n",
              "\n",
              "    .dataframe tbody tr th {\n",
              "        vertical-align: top;\n",
              "    }\n",
              "\n",
              "    .dataframe thead th {\n",
              "        text-align: right;\n",
              "    }\n",
              "</style>\n",
              "<table border=\"1\" class=\"dataframe\">\n",
              "  <thead>\n",
              "    <tr style=\"text-align: right;\">\n",
              "      <th></th>\n",
              "      <th>GDP per capita</th>\n",
              "      <th>Air pollution</th>\n",
              "      <th>Dwellings without basic facilities</th>\n",
              "      <th>Educational attainment</th>\n",
              "      <th>Employees working very long hours</th>\n",
              "      <th>Employment rate</th>\n",
              "      <th>Feeling safe walking alone at night</th>\n",
              "      <th>Homicide rate</th>\n",
              "      <th>Household net adjusted disposable income</th>\n",
              "      <th>Household net financial wealth</th>\n",
              "      <th>Housing expenditure</th>\n",
              "      <th>Labour market insecurity</th>\n",
              "      <th>Life expectancy</th>\n",
              "      <th>Life satisfaction</th>\n",
              "      <th>Long-term unemployment rate</th>\n",
              "      <th>Personal earnings</th>\n",
              "      <th>Quality of support network</th>\n",
              "      <th>Rooms per person</th>\n",
              "      <th>Self-reported health</th>\n",
              "      <th>Stakeholder engagement for developing regulations</th>\n",
              "      <th>Student skills</th>\n",
              "      <th>Time devoted to leisure and personal care</th>\n",
              "      <th>Voter turnout</th>\n",
              "      <th>Water quality</th>\n",
              "      <th>Years in education</th>\n",
              "    </tr>\n",
              "    <tr>\n",
              "      <th>Country</th>\n",
              "      <th></th>\n",
              "      <th></th>\n",
              "      <th></th>\n",
              "      <th></th>\n",
              "      <th></th>\n",
              "      <th></th>\n",
              "      <th></th>\n",
              "      <th></th>\n",
              "      <th></th>\n",
              "      <th></th>\n",
              "      <th></th>\n",
              "      <th></th>\n",
              "      <th></th>\n",
              "      <th></th>\n",
              "      <th></th>\n",
              "      <th></th>\n",
              "      <th></th>\n",
              "      <th></th>\n",
              "      <th></th>\n",
              "      <th></th>\n",
              "      <th></th>\n",
              "      <th></th>\n",
              "      <th></th>\n",
              "      <th></th>\n",
              "      <th></th>\n",
              "    </tr>\n",
              "  </thead>\n",
              "  <tbody>\n",
              "    <tr>\n",
              "      <th>Luxembourg</th>\n",
              "      <td>101994.09</td>\n",
              "      <td>12</td>\n",
              "      <td>0</td>\n",
              "      <td>79</td>\n",
              "      <td>3.76</td>\n",
              "      <td>66</td>\n",
              "      <td>72</td>\n",
              "      <td>0.6</td>\n",
              "      <td>41317</td>\n",
              "      <td>74141</td>\n",
              "      <td>20</td>\n",
              "      <td>3.2</td>\n",
              "      <td>82.4</td>\n",
              "      <td>6.9</td>\n",
              "      <td>1.9</td>\n",
              "      <td>62636</td>\n",
              "      <td>92</td>\n",
              "      <td>2</td>\n",
              "      <td>70</td>\n",
              "      <td>1.5</td>\n",
              "      <td>483</td>\n",
              "      <td>15.15</td>\n",
              "      <td>91</td>\n",
              "      <td>85</td>\n",
              "      <td>15.1</td>\n",
              "    </tr>\n",
              "    <tr>\n",
              "      <th>Hungary</th>\n",
              "      <td>12239.89</td>\n",
              "      <td>19</td>\n",
              "      <td>4.3</td>\n",
              "      <td>83</td>\n",
              "      <td>3.05</td>\n",
              "      <td>67</td>\n",
              "      <td>50.7</td>\n",
              "      <td>1.2</td>\n",
              "      <td>16821</td>\n",
              "      <td>23289</td>\n",
              "      <td>18</td>\n",
              "      <td>4.8</td>\n",
              "      <td>75.7</td>\n",
              "      <td>5.3</td>\n",
              "      <td>2.42</td>\n",
              "      <td>21711</td>\n",
              "      <td>84</td>\n",
              "      <td>1.2</td>\n",
              "      <td>56</td>\n",
              "      <td>1.2</td>\n",
              "      <td>474</td>\n",
              "      <td>15.06</td>\n",
              "      <td>62</td>\n",
              "      <td>76</td>\n",
              "      <td>16.6</td>\n",
              "    </tr>\n",
              "    <tr>\n",
              "      <th>Poland</th>\n",
              "      <td>12495.33</td>\n",
              "      <td>22</td>\n",
              "      <td>2.7</td>\n",
              "      <td>91</td>\n",
              "      <td>6.68</td>\n",
              "      <td>65</td>\n",
              "      <td>66.3</td>\n",
              "      <td>0.8</td>\n",
              "      <td>18906</td>\n",
              "      <td>14997</td>\n",
              "      <td>23</td>\n",
              "      <td>4.3</td>\n",
              "      <td>77.6</td>\n",
              "      <td>6</td>\n",
              "      <td>2.14</td>\n",
              "      <td>25921</td>\n",
              "      <td>89</td>\n",
              "      <td>1.1</td>\n",
              "      <td>58</td>\n",
              "      <td>2.6</td>\n",
              "      <td>504</td>\n",
              "      <td>14.42</td>\n",
              "      <td>55</td>\n",
              "      <td>80</td>\n",
              "      <td>17.7</td>\n",
              "    </tr>\n",
              "    <tr>\n",
              "      <th>Chile</th>\n",
              "      <td>13340.91</td>\n",
              "      <td>16</td>\n",
              "      <td>9.4</td>\n",
              "      <td>65</td>\n",
              "      <td>10.06</td>\n",
              "      <td>62</td>\n",
              "      <td>51.1</td>\n",
              "      <td>4.5</td>\n",
              "      <td>16588</td>\n",
              "      <td>21409</td>\n",
              "      <td>18</td>\n",
              "      <td>8.1</td>\n",
              "      <td>79.1</td>\n",
              "      <td>6.7</td>\n",
              "      <td>2.02</td>\n",
              "      <td>28434</td>\n",
              "      <td>84</td>\n",
              "      <td>1.9</td>\n",
              "      <td>57</td>\n",
              "      <td>1.5</td>\n",
              "      <td>443</td>\n",
              "      <td>14.9</td>\n",
              "      <td>49</td>\n",
              "      <td>69</td>\n",
              "      <td>17.3</td>\n",
              "    </tr>\n",
              "    <tr>\n",
              "      <th>Latvia</th>\n",
              "      <td>13618.57</td>\n",
              "      <td>11</td>\n",
              "      <td>12.9</td>\n",
              "      <td>89</td>\n",
              "      <td>2.09</td>\n",
              "      <td>69</td>\n",
              "      <td>60.7</td>\n",
              "      <td>6.6</td>\n",
              "      <td>15269</td>\n",
              "      <td>17105</td>\n",
              "      <td>23</td>\n",
              "      <td>6.8</td>\n",
              "      <td>74.6</td>\n",
              "      <td>5.9</td>\n",
              "      <td>3.73</td>\n",
              "      <td>22389</td>\n",
              "      <td>86</td>\n",
              "      <td>1.2</td>\n",
              "      <td>46</td>\n",
              "      <td>2.4</td>\n",
              "      <td>487</td>\n",
              "      <td>13.83</td>\n",
              "      <td>59</td>\n",
              "      <td>77</td>\n",
              "      <td>17.9</td>\n",
              "    </tr>\n",
              "  </tbody>\n",
              "</table>\n",
              "</div>"
            ],
            "text/plain": [
              "           GDP per capita Air pollution  ... Water quality Years in education\n",
              "Country                                  ...                                 \n",
              "Luxembourg      101994.09            12  ...            85               15.1\n",
              "Hungary          12239.89            19  ...            76               16.6\n",
              "Poland           12495.33            22  ...            80               17.7\n",
              "Chile            13340.91            16  ...            69               17.3\n",
              "Latvia           13618.57            11  ...            77               17.9\n",
              "\n",
              "[5 rows x 25 columns]"
            ]
          },
          "metadata": {},
          "execution_count": 10
        }
      ]
    },
    {
      "cell_type": "code",
      "metadata": {
        "id": "eoJn-lxSPfqP",
        "colab": {
          "base_uri": "https://localhost:8080/"
        },
        "outputId": "543cdb12-e9a2-40cd-a9e5-48b5f0501525"
      },
      "source": [
        "df.iloc[3]"
      ],
      "execution_count": null,
      "outputs": [
        {
          "output_type": "execute_result",
          "data": {
            "text/plain": [
              "GDP per capita                                       13340.91\n",
              "Air pollution                                              16\n",
              "Dwellings without basic facilities                        9.4\n",
              "Educational attainment                                     65\n",
              "Employees working very long hours                       10.06\n",
              "Employment rate                                            62\n",
              "Feeling safe walking alone at night                      51.1\n",
              "Homicide rate                                             4.5\n",
              "Household net adjusted disposable income                16588\n",
              "Household net financial wealth                          21409\n",
              "Housing expenditure                                        18\n",
              "Labour market insecurity                                  8.1\n",
              "Life expectancy                                          79.1\n",
              "Life satisfaction                                         6.7\n",
              "Long-term unemployment rate                              2.02\n",
              "Personal earnings                                       28434\n",
              "Quality of support network                                 84\n",
              "Rooms per person                                          1.9\n",
              "Self-reported health                                       57\n",
              "Stakeholder engagement for developing regulations         1.5\n",
              "Student skills                                            443\n",
              "Time devoted to leisure and personal care                14.9\n",
              "Voter turnout                                              49\n",
              "Water quality                                              69\n",
              "Years in education                                       17.3\n",
              "Name: Chile, dtype: object"
            ]
          },
          "metadata": {},
          "execution_count": 11
        }
      ]
    },
    {
      "cell_type": "markdown",
      "metadata": {
        "id": "MkSTXnclPGLd"
      },
      "source": [
        "## Split dataset into Train & Test"
      ]
    },
    {
      "cell_type": "code",
      "metadata": {
        "id": "6HOaSt93Nqkz"
      },
      "source": [
        "# Below snippet is the most basic way of splitting data in Python; It is for illustration only and in \n",
        "# later sections we will use proper library from Sklearn to split the data\n",
        "test_indices = [0, 1, 6, 8, 33, 34, 35]\n",
        "\n",
        "#define the indices of the training set by substracting the test indices from all indices\n",
        "train_indices = list(set(range(36)) - set(test_indices))\n",
        "\n",
        "#use the above indices to select parts of the dataframe as the training set and the test set\n",
        "train = df[[\"GDP per capita\", 'Life satisfaction']].iloc[train_indices]\n",
        "test = df[[\"GDP per capita\", 'Life satisfaction']].iloc[test_indices]"
      ],
      "execution_count": null,
      "outputs": []
    },
    {
      "cell_type": "code",
      "metadata": {
        "id": "9CRVFFEX_voT",
        "colab": {
          "base_uri": "https://localhost:8080/",
          "height": 236
        },
        "outputId": "fd22091b-f2d0-42ef-f5c2-ad591827f287"
      },
      "source": [
        "train.head()"
      ],
      "execution_count": null,
      "outputs": [
        {
          "output_type": "execute_result",
          "data": {
            "text/html": [
              "<div>\n",
              "<style scoped>\n",
              "    .dataframe tbody tr th:only-of-type {\n",
              "        vertical-align: middle;\n",
              "    }\n",
              "\n",
              "    .dataframe tbody tr th {\n",
              "        vertical-align: top;\n",
              "    }\n",
              "\n",
              "    .dataframe thead th {\n",
              "        text-align: right;\n",
              "    }\n",
              "</style>\n",
              "<table border=\"1\" class=\"dataframe\">\n",
              "  <thead>\n",
              "    <tr style=\"text-align: right;\">\n",
              "      <th></th>\n",
              "      <th>GDP per capita</th>\n",
              "      <th>Life satisfaction</th>\n",
              "    </tr>\n",
              "    <tr>\n",
              "      <th>Country</th>\n",
              "      <th></th>\n",
              "      <th></th>\n",
              "    </tr>\n",
              "  </thead>\n",
              "  <tbody>\n",
              "    <tr>\n",
              "      <th>Poland</th>\n",
              "      <td>12495.33</td>\n",
              "      <td>6</td>\n",
              "    </tr>\n",
              "    <tr>\n",
              "      <th>Chile</th>\n",
              "      <td>13340.91</td>\n",
              "      <td>6.7</td>\n",
              "    </tr>\n",
              "    <tr>\n",
              "      <th>Latvia</th>\n",
              "      <td>13618.57</td>\n",
              "      <td>5.9</td>\n",
              "    </tr>\n",
              "    <tr>\n",
              "      <th>Slovak Republic</th>\n",
              "      <td>15991.74</td>\n",
              "      <td>6.1</td>\n",
              "    </tr>\n",
              "    <tr>\n",
              "      <th>Estonia</th>\n",
              "      <td>17288.08</td>\n",
              "      <td>5.6</td>\n",
              "    </tr>\n",
              "  </tbody>\n",
              "</table>\n",
              "</div>"
            ],
            "text/plain": [
              "                GDP per capita Life satisfaction\n",
              "Country                                         \n",
              "Poland                12495.33                 6\n",
              "Chile                 13340.91               6.7\n",
              "Latvia                13618.57               5.9\n",
              "Slovak Republic       15991.74               6.1\n",
              "Estonia               17288.08               5.6"
            ]
          },
          "metadata": {},
          "execution_count": 13
        }
      ]
    },
    {
      "cell_type": "code",
      "metadata": {
        "id": "NqZnpDGyR_3f"
      },
      "source": [
        "# Code example\n",
        "import matplotlib.pyplot as plt\n",
        "import numpy as np\n",
        "import pandas as pd\n",
        "import sklearn.linear_model\n",
        "\n",
        "# Prepare the data\n",
        "X = np.c_[train[\"GDP per capita\"]]\n",
        "y = np.c_[train[\"Life satisfaction\"]]"
      ],
      "execution_count": null,
      "outputs": []
    },
    {
      "cell_type": "code",
      "metadata": {
        "id": "UzRnfo8yAEbI",
        "colab": {
          "base_uri": "https://localhost:8080/"
        },
        "outputId": "cd44d876-24ab-41b3-93da-1e346a10bfd3"
      },
      "source": [
        "type(y)"
      ],
      "execution_count": null,
      "outputs": [
        {
          "output_type": "execute_result",
          "data": {
            "text/plain": [
              "numpy.ndarray"
            ]
          },
          "metadata": {},
          "execution_count": 15
        }
      ]
    },
    {
      "cell_type": "code",
      "metadata": {
        "id": "BzUJ0hnrwYgd",
        "colab": {
          "base_uri": "https://localhost:8080/"
        },
        "outputId": "138676bc-658c-404f-de0f-3c0814a7cd26"
      },
      "source": [
        "#Lets look at what is inside X and y. Print first 5 records\n",
        "X[:5], y[:5]"
      ],
      "execution_count": null,
      "outputs": [
        {
          "output_type": "execute_result",
          "data": {
            "text/plain": [
              "(array([['12495.33'],\n",
              "        ['13340.91'],\n",
              "        ['13618.57'],\n",
              "        ['15991.74'],\n",
              "        ['17288.08']], dtype=object), array([['6'],\n",
              "        ['6.7'],\n",
              "        ['5.9'],\n",
              "        ['6.1'],\n",
              "        ['5.6']], dtype=object))"
            ]
          },
          "metadata": {},
          "execution_count": 16
        }
      ]
    },
    {
      "cell_type": "markdown",
      "metadata": {
        "id": "WJFLcCBgPPXj"
      },
      "source": [
        "# ML Starts Now\n",
        "## Define a model with default values"
      ]
    },
    {
      "cell_type": "code",
      "metadata": {
        "id": "_mimmXfQNTD1",
        "colab": {
          "base_uri": "https://localhost:8080/"
        },
        "outputId": "30897cd6-848d-41eb-bcde-d077e4a38ec9"
      },
      "source": [
        "# Select a basic linear model without setting any parameter (nothing inside paranthesis below)\n",
        "model = sklearn.linear_model.LinearRegression()\n",
        "\n",
        "# See the model for yourself\n",
        "model"
      ],
      "execution_count": null,
      "outputs": [
        {
          "output_type": "execute_result",
          "data": {
            "text/plain": [
              "LinearRegression(copy_X=True, fit_intercept=True, n_jobs=None, normalize=False)"
            ]
          },
          "metadata": {},
          "execution_count": 18
        }
      ]
    },
    {
      "cell_type": "markdown",
      "metadata": {
        "id": "0pf1NGpkPSnD"
      },
      "source": [
        "## Start training the model using X and y"
      ]
    },
    {
      "cell_type": "code",
      "metadata": {
        "id": "NySTaTDMp_Ve",
        "colab": {
          "base_uri": "https://localhost:8080/"
        },
        "outputId": "eb0114ae-4a8f-493e-f1e6-d185b48f24b9"
      },
      "source": [
        "# Train the model\n",
        "model.fit(X, y)"
      ],
      "execution_count": null,
      "outputs": [
        {
          "output_type": "execute_result",
          "data": {
            "text/plain": [
              "LinearRegression(copy_X=True, fit_intercept=True, n_jobs=None, normalize=False)"
            ]
          },
          "metadata": {},
          "execution_count": 19
        }
      ]
    },
    {
      "cell_type": "code",
      "metadata": {
        "colab": {
          "base_uri": "https://localhost:8080/"
        },
        "id": "YzVQ4lQors1b",
        "outputId": "7dc7cedc-4547-4f56-e759-41083f5b204b"
      },
      "source": [
        "model.coef_"
      ],
      "execution_count": null,
      "outputs": [
        {
          "output_type": "execute_result",
          "data": {
            "text/plain": [
              "array([[3.83407608e-05]])"
            ]
          },
          "metadata": {},
          "execution_count": 20
        }
      ]
    },
    {
      "cell_type": "code",
      "metadata": {
        "colab": {
          "base_uri": "https://localhost:8080/"
        },
        "id": "KF0UFvZxsgPA",
        "outputId": "148f5a1e-91b7-4c11-cdd8-eeaed8d5583a"
      },
      "source": [
        "model.intercept_"
      ],
      "execution_count": null,
      "outputs": [
        {
          "output_type": "execute_result",
          "data": {
            "text/plain": [
              "array([5.25939616])"
            ]
          },
          "metadata": {},
          "execution_count": 21
        }
      ]
    },
    {
      "cell_type": "markdown",
      "metadata": {
        "id": "v519lr8DPW1v"
      },
      "source": [
        "## Do prediction on test data"
      ]
    },
    {
      "cell_type": "code",
      "metadata": {
        "id": "cMGgmbBJlcvb",
        "colab": {
          "base_uri": "https://localhost:8080/"
        },
        "outputId": "fbc2a261-6f82-42df-a7a4-915cc50f4b8a"
      },
      "source": [
        "# Make a prediction for Cyprus\n",
        "X_new = [[17770]]  # Cyprus' GDP per capita\n",
        "print(model.predict(X_new)) # outputs [[5.95199478]]"
      ],
      "execution_count": null,
      "outputs": [
        {
          "output_type": "stream",
          "text": [
            "[[5.94071148]]\n"
          ],
          "name": "stdout"
        }
      ]
    },
    {
      "cell_type": "code",
      "metadata": {
        "id": "46aihcuVpT0E"
      },
      "source": [
        "# Make a prediction for our test data\n",
        "pred = model.predict(test['GDP per capita'].values.reshape(-1,1))"
      ],
      "execution_count": null,
      "outputs": []
    },
    {
      "cell_type": "code",
      "metadata": {
        "id": "D9QinOHvItbt",
        "colab": {
          "base_uri": "https://localhost:8080/"
        },
        "outputId": "8edf9e2d-efb0-4b3f-86ed-e237db854b0b"
      },
      "source": [
        "pred"
      ],
      "execution_count": null,
      "outputs": [
        {
          "output_type": "execute_result",
          "data": {
            "text/plain": [
              "array([[9.16992716],\n",
              "       [5.72868285],\n",
              "       [5.9210396 ],\n",
              "       [5.95199478],\n",
              "       [8.35254892],\n",
              "       [5.59181055],\n",
              "       [5.60481881]])"
            ]
          },
          "metadata": {
            "tags": []
          },
          "execution_count": 17
        }
      ]
    },
    {
      "cell_type": "markdown",
      "metadata": {
        "id": "cUa_ypmpaMLd"
      },
      "source": [
        "#Now, lets make it better!\n",
        "\n",
        "Use test dataset and predict the life expectancy using test dataset. "
      ]
    },
    {
      "cell_type": "markdown",
      "metadata": {
        "id": "m_aeltVpZcp3"
      },
      "source": [
        "# Evaluate Model"
      ]
    },
    {
      "cell_type": "code",
      "metadata": {
        "id": "fTHMYUFvZuD9"
      },
      "source": [
        "# Lets create train and test dataset, so we can use train dataset for training the model\n",
        "# and use test dataset to evaluate model performance \n",
        "X_train = np.c_[train[\"GDP per capita\"]]\n",
        "y_train = np.c_[train[\"Life satisfaction\"]]\n",
        "\n",
        "X_test = np.c_[test[\"GDP per capita\"]]\n",
        "y_test = np.c_[test[\"Life satisfaction\"]]\n",
        "\n",
        "model = model.fit(X_train,y_train)\n",
        "\n",
        "#Now apply the prediction on test dataset\n",
        "y_pred_test = model.predict(X_test)"
      ],
      "execution_count": null,
      "outputs": []
    },
    {
      "cell_type": "code",
      "metadata": {
        "id": "8DdKjw72Z-YN",
        "colab": {
          "base_uri": "https://localhost:8080/"
        },
        "outputId": "78b5a918-beed-43a6-9326-6e1ff4d9a41f"
      },
      "source": [
        "# See predictions for yourself\n",
        "y_pred_test"
      ],
      "execution_count": null,
      "outputs": [
        {
          "output_type": "execute_result",
          "data": {
            "text/plain": [
              "array([[9.16992716],\n",
              "       [5.72868285],\n",
              "       [5.9210396 ],\n",
              "       [5.95199478],\n",
              "       [8.35254892],\n",
              "       [5.59181055],\n",
              "       [5.60481881]])"
            ]
          },
          "metadata": {
            "tags": []
          },
          "execution_count": 19
        }
      ]
    },
    {
      "cell_type": "code",
      "metadata": {
        "id": "XgO5TjY8O_QT",
        "colab": {
          "base_uri": "https://localhost:8080/"
        },
        "outputId": "32af2221-5dd4-4f48-b468-0e8f35fdbf0a"
      },
      "source": [
        "from sklearn.metrics import mean_squared_error\n",
        "\n",
        "#MSE: Mean Squared Error as a metric to evaluate a regression model\n",
        "mean_squared_error(y_test, y_pred_test)\n"
      ],
      "execution_count": null,
      "outputs": [
        {
          "output_type": "execute_result",
          "data": {
            "text/plain": [
              "1.299498988620812"
            ]
          },
          "metadata": {
            "tags": []
          },
          "execution_count": 20
        }
      ]
    },
    {
      "cell_type": "code",
      "metadata": {
        "id": "JRCvYZHAZmKZ",
        "colab": {
          "base_uri": "https://localhost:8080/"
        },
        "outputId": "f86ab28d-8b53-4322-9e77-c7ea516d8115"
      },
      "source": [
        "#RMSE\n",
        "from math import sqrt\n",
        "sqrt(mean_squared_error(y_test, y_pred_test))\n"
      ],
      "execution_count": null,
      "outputs": [
        {
          "output_type": "execute_result",
          "data": {
            "text/plain": [
              "1.1399556959026136"
            ]
          },
          "metadata": {
            "tags": []
          },
          "execution_count": 21
        }
      ]
    },
    {
      "cell_type": "markdown",
      "metadata": {
        "id": "4g05y180fTDX"
      },
      "source": [
        "# Question:\n",
        "\n",
        "### What would you expect if we normalize data and train the model again?"
      ]
    },
    {
      "cell_type": "markdown",
      "metadata": {
        "id": "h8hPONDlaxZM"
      },
      "source": [
        "# Now, normalize data before prediction"
      ]
    },
    {
      "cell_type": "code",
      "metadata": {
        "id": "YW04HGsLapBM"
      },
      "source": [
        "from sklearn.preprocessing import MinMaxScaler\n",
        "# Define Scaling technique\n",
        "scaler = MinMaxScaler()"
      ],
      "execution_count": null,
      "outputs": []
    },
    {
      "cell_type": "code",
      "metadata": {
        "id": "hFxrvpPpa5D6",
        "colab": {
          "base_uri": "https://localhost:8080/"
        },
        "outputId": "c588a578-77fe-4aef-f6ca-2f42f3c01270"
      },
      "source": [
        "# Train escaling object \n",
        "X_train_escaler = scaler.fit(X_train)\n",
        "\n",
        "# Apply scaling model to the data\n",
        "X_train_escaled = X_train_escaler.transform(X_train)\n",
        "X_train_escaled[:5]"
      ],
      "execution_count": null,
      "outputs": [
        {
          "output_type": "execute_result",
          "data": {
            "text/plain": [
              "array([[0.09837989],\n",
              "       [0.11061207],\n",
              "       [0.1146287 ],\n",
              "       [0.14895901],\n",
              "       [0.16771188]])"
            ]
          },
          "metadata": {
            "tags": []
          },
          "execution_count": 23
        }
      ]
    },
    {
      "cell_type": "markdown",
      "metadata": {
        "id": "xcoCKpR1c7LC"
      },
      "source": [
        "#Normalize Test Dataset"
      ]
    },
    {
      "cell_type": "code",
      "metadata": {
        "id": "7ey1DwyWbClL",
        "colab": {
          "base_uri": "https://localhost:8080/"
        },
        "outputId": "b4b3e430-37ea-4209-893c-491c762fe654"
      },
      "source": [
        "# Apply scaling model to the data\n",
        "X_test_escaled = X_train_escaler.transform(X_test)\n",
        "X_test_escaled"
      ],
      "execution_count": null,
      "outputs": [
        {
          "output_type": "execute_result",
          "data": {
            "text/plain": [
              "array([[1.39307026],\n",
              "       [0.09468469],\n",
              "       [0.16726112],\n",
              "       [0.17894055],\n",
              "       [1.08467248],\n",
              "       [0.04304261],\n",
              "       [0.04795064]])"
            ]
          },
          "metadata": {
            "tags": []
          },
          "execution_count": 24
        }
      ]
    },
    {
      "cell_type": "markdown",
      "metadata": {
        "id": "-tHTOhKldbOC"
      },
      "source": [
        "# Train Models using Scaled Data"
      ]
    },
    {
      "cell_type": "markdown",
      "metadata": {
        "id": "SGtl94_EddFR"
      },
      "source": [
        "## Start training the model using X and y"
      ]
    },
    {
      "cell_type": "code",
      "metadata": {
        "id": "A9olddl0ddFR"
      },
      "source": [
        "model.fit(X_train_escaled, y_train)\n",
        "\n",
        "y_pred_escaled = model.predict(X_train_escaled)\n"
      ],
      "execution_count": null,
      "outputs": []
    },
    {
      "cell_type": "markdown",
      "metadata": {
        "id": "oN8ztq0gddFV"
      },
      "source": [
        "## Do prediction on test data"
      ]
    },
    {
      "cell_type": "code",
      "metadata": {
        "id": "NYyxFRRWfH0e"
      },
      "source": [
        "y_pred_escaled = model.predict(X_test_escaled)"
      ],
      "execution_count": null,
      "outputs": []
    },
    {
      "cell_type": "code",
      "metadata": {
        "id": "kg2h-_PkfNDz",
        "colab": {
          "base_uri": "https://localhost:8080/"
        },
        "outputId": "a875c7e1-05b9-4b05-9638-8dcf195c8100"
      },
      "source": [
        "#RMSE\n",
        "from math import sqrt\n",
        "sqrt(mean_squared_error(y_test, y_pred_escaled))\n"
      ],
      "execution_count": null,
      "outputs": [
        {
          "output_type": "execute_result",
          "data": {
            "text/plain": [
              "1.1399556959026143"
            ]
          },
          "metadata": {
            "tags": []
          },
          "execution_count": 27
        }
      ]
    },
    {
      "cell_type": "markdown",
      "metadata": {
        "id": "Q4HfXFDKi_Y4"
      },
      "source": [
        "# Can you conclude by comparing RMSE from normalized and not normalized dataset?"
      ]
    },
    {
      "cell_type": "code",
      "metadata": {
        "id": "6lW3c6z3fQTU"
      },
      "source": [
        ""
      ],
      "execution_count": null,
      "outputs": []
    }
  ]
}